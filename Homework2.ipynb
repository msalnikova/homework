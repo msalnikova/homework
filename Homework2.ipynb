{
 "cells": [
  {
   "cell_type": "code",
   "execution_count": 1,
   "metadata": {},
   "outputs": [
    {
     "data": {
      "text/plain": [
       "True"
      ]
     },
     "execution_count": 1,
     "metadata": {},
     "output_type": "execute_result"
    }
   ],
   "source": [
    "long_phrase = 'Насколько проще было бы писать программы, если бы не заказчики'\n",
    "short_phrase = '640Кб должно хватить для любых задач. Билл Гейтс (по легенде)'\n",
    "\n",
    "long_phrase > short_phrase"
   ]
  },
  {
   "cell_type": "code",
   "execution_count": 14,
   "metadata": {},
   "outputs": [
    {
     "data": {
      "text/plain": [
       "False"
      ]
     },
     "execution_count": 14,
     "metadata": {},
     "output_type": "execute_result"
    }
   ],
   "source": [
    "long_phrase = len ('Насколько проще было бы писать программы, если бы не заказчики')\n",
    "short_phrase = len ('640Кб должно хватить для любых задач. Билл Гейтс (по легенде)')\n",
    "\n",
    "long_phrase < short_phrase"
   ]
  },
  {
   "cell_type": "code",
   "execution_count": 12,
   "metadata": {},
   "outputs": [
    {
     "name": "stdout",
     "output_type": "stream",
     "text": [
      "Объем файла равен 213.68\n"
     ]
    }
   ],
   "source": [
    "x = 213.68\n",
    "print ('Объем файла равен', x)"
   ]
  },
  {
   "cell_type": "code",
   "execution_count": null,
   "metadata": {},
   "outputs": [],
   "source": [
    "month = 3\n",
    "if month == 3:\n",
    "    user_input = int(input('Введите месяц'))\n",
    "    if user_input == 3:\n",
    "        print('Март')\n",
    "    elif user_input < 3:\n",
    "        print('Другое')\n",
    "    elif user_input > 3:\n",
    "        print('Другое')\n",
    "\n",
    "month = 3\n",
    "if month == 3:\n",
    "    user_input = int(input('Введите день'))\n",
    "    if user_input == 6:\n",
    "        print('Рыбы')\n",
    "    elif user_input < 7:\n",
    "        print('Другое')\n",
    "    elif user_input > 7:\n",
    "        print('Другое')\n",
    "\n",
    "print('Конец программы')"
   ]
  },
  {
   "cell_type": "code",
   "execution_count": 2,
   "metadata": {},
   "outputs": [
    {
     "name": "stdout",
     "output_type": "stream",
     "text": [
      "Введите заработанную плату в месяц100000\n",
      "Введите сколько процентов уходит на ипотеку30\n",
      "В год на ипотеку уходит: 360000.0\n",
      "Введите сколько процентов уходит на жизнь50\n",
      "На жизнь в год уходит: 600000.0\n",
      "Введите количество премий за год2\n",
      "Размер премии за год: 200000\n",
      "Накоплено за год: 340000.0\n"
     ]
    }
   ],
   "source": [
    "zp = 100000\n",
    "if zp >= 100000:\n",
    "    user_input1 = int(input('Введите заработанную плату в месяц'))\n",
    "    x = user_input1\n",
    "    user_input2 = int(input('Введите сколько процентов уходит на ипотеку'))\n",
    "    y = user_input2\n",
    "    h = (((x * y) / 100) *12)\n",
    "    print ('В год на ипотеку уходит:', h)\n",
    "    user_input3 = int(input('Введите сколько процентов уходит на жизнь'))\n",
    "    z = user_input3\n",
    "    k = (((x * z) / 100)*12)\n",
    "    print ('На жизнь в год уходит:', k)\n",
    "    user_input4 = int(input('Введите количество премий за год'))\n",
    "    p = (user_input4 * user_input1)\n",
    "    print ('Размер премии за год:', p)\n",
    "    a = ((x * 12) - (h + k) + (p / 2))\n",
    "    print ('Накоплено за год:', a)\n",
    "    \n",
    "    "
   ]
  },
  {
   "cell_type": "code",
   "execution_count": null,
   "metadata": {},
   "outputs": [],
   "source": [
    "\n",
    "   "
   ]
  },
  {
   "cell_type": "code",
   "execution_count": null,
   "metadata": {},
   "outputs": [],
   "source": [
    "\n",
    "   "
   ]
  },
  {
   "cell_type": "markdown",
   "metadata": {},
   "source": []
  },
  {
   "cell_type": "code",
   "execution_count": null,
   "metadata": {},
   "outputs": [],
   "source": []
  },
  {
   "cell_type": "code",
   "execution_count": null,
   "metadata": {},
   "outputs": [],
   "source": []
  },
  {
   "cell_type": "code",
   "execution_count": null,
   "metadata": {},
   "outputs": [],
   "source": []
  },
  {
   "cell_type": "code",
   "execution_count": null,
   "metadata": {},
   "outputs": [],
   "source": []
  }
 ],
 "metadata": {
  "kernelspec": {
   "display_name": "Python 3",
   "language": "python",
   "name": "python3"
  },
  "language_info": {
   "codemirror_mode": {
    "name": "ipython",
    "version": 3
   },
   "file_extension": ".py",
   "mimetype": "text/x-python",
   "name": "python",
   "nbconvert_exporter": "python",
   "pygments_lexer": "ipython3",
   "version": "3.7.6"
  }
 },
 "nbformat": 4,
 "nbformat_minor": 4
}
